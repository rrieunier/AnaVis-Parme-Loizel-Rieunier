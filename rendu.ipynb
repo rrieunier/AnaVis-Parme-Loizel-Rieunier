{
 "cells": [
  {
   "cell_type": "code",
   "execution_count": 2,
   "metadata": {},
   "outputs": [],
   "source": [
    "%matplotlib inline"
   ]
  },
  {
   "cell_type": "code",
   "execution_count": 88,
   "metadata": {},
   "outputs": [],
   "source": [
    "import numpy as np\n",
    "import pandas as pd\n",
    "from matplotlib import pyplot as plt, dates as mdates\n",
    "import seaborn as sns\n",
    "import gzip\n",
    "import os\n",
    "import matplotlib.dates as mdates\n",
    "import datetime\n",
    "\n",
    "sns.set(style=\"darkgrid\")"
   ]
  },
  {
   "cell_type": "code",
   "execution_count": 4,
   "metadata": {},
   "outputs": [],
   "source": [
    "#with gzip.open('data/clean.tar.gz') as gz:\n",
    "#    print(gz.read())\n",
    "\n",
    "with gzip.open('data/clean/01. Duc/2014-11-14 09:40:00.csv.gz', \"rb\") as day:\n",
    "    df = pd.read_csv(day, sep=\";\", parse_dates=['Timestamp'])"
   ]
  },
  {
   "cell_type": "code",
   "execution_count": 5,
   "metadata": {},
   "outputs": [
    {
     "data": {
      "text/html": [
       "<div>\n",
       "<style scoped>\n",
       "    .dataframe tbody tr th:only-of-type {\n",
       "        vertical-align: middle;\n",
       "    }\n",
       "\n",
       "    .dataframe tbody tr th {\n",
       "        vertical-align: top;\n",
       "    }\n",
       "\n",
       "    .dataframe thead th {\n",
       "        text-align: right;\n",
       "    }\n",
       "</style>\n",
       "<table border=\"1\" class=\"dataframe\">\n",
       "  <thead>\n",
       "    <tr style=\"text-align: right;\">\n",
       "      <th></th>\n",
       "      <th>Bikes</th>\n",
       "      <th>Slots</th>\n",
       "      <th>Total</th>\n",
       "      <th>Humidity</th>\n",
       "      <th>Pressure</th>\n",
       "      <th>WindDeg</th>\n",
       "      <th>WindSpeed</th>\n",
       "      <th>TemperatureTemp</th>\n",
       "    </tr>\n",
       "  </thead>\n",
       "  <tbody>\n",
       "    <tr>\n",
       "      <td>count</td>\n",
       "      <td>695.000000</td>\n",
       "      <td>695.000000</td>\n",
       "      <td>695.000000</td>\n",
       "      <td>695.000000</td>\n",
       "      <td>695.000000</td>\n",
       "      <td>695.000000</td>\n",
       "      <td>695.000000</td>\n",
       "      <td>695.000000</td>\n",
       "    </tr>\n",
       "    <tr>\n",
       "      <td>mean</td>\n",
       "      <td>2.677698</td>\n",
       "      <td>5.532374</td>\n",
       "      <td>8.210072</td>\n",
       "      <td>90.566906</td>\n",
       "      <td>971.539396</td>\n",
       "      <td>181.054564</td>\n",
       "      <td>1.011396</td>\n",
       "      <td>9.550086</td>\n",
       "    </tr>\n",
       "    <tr>\n",
       "      <td>std</td>\n",
       "      <td>0.585370</td>\n",
       "      <td>0.538197</td>\n",
       "      <td>0.407653</td>\n",
       "      <td>12.485417</td>\n",
       "      <td>33.624195</td>\n",
       "      <td>52.405662</td>\n",
       "      <td>0.497840</td>\n",
       "      <td>4.014416</td>\n",
       "    </tr>\n",
       "    <tr>\n",
       "      <td>min</td>\n",
       "      <td>2.000000</td>\n",
       "      <td>4.000000</td>\n",
       "      <td>8.000000</td>\n",
       "      <td>45.000000</td>\n",
       "      <td>936.090000</td>\n",
       "      <td>4.502040</td>\n",
       "      <td>0.410000</td>\n",
       "      <td>-0.730000</td>\n",
       "    </tr>\n",
       "    <tr>\n",
       "      <td>25%</td>\n",
       "      <td>2.000000</td>\n",
       "      <td>5.000000</td>\n",
       "      <td>8.000000</td>\n",
       "      <td>87.000000</td>\n",
       "      <td>938.520000</td>\n",
       "      <td>165.003000</td>\n",
       "      <td>0.770000</td>\n",
       "      <td>6.660000</td>\n",
       "    </tr>\n",
       "    <tr>\n",
       "      <td>50%</td>\n",
       "      <td>3.000000</td>\n",
       "      <td>6.000000</td>\n",
       "      <td>8.000000</td>\n",
       "      <td>96.000000</td>\n",
       "      <td>945.960000</td>\n",
       "      <td>194.002000</td>\n",
       "      <td>0.860000</td>\n",
       "      <td>9.100000</td>\n",
       "    </tr>\n",
       "    <tr>\n",
       "      <td>75%</td>\n",
       "      <td>3.000000</td>\n",
       "      <td>6.000000</td>\n",
       "      <td>8.000000</td>\n",
       "      <td>99.000000</td>\n",
       "      <td>1006.000000</td>\n",
       "      <td>208.003000</td>\n",
       "      <td>0.980000</td>\n",
       "      <td>12.000000</td>\n",
       "    </tr>\n",
       "    <tr>\n",
       "      <td>max</td>\n",
       "      <td>4.000000</td>\n",
       "      <td>6.000000</td>\n",
       "      <td>9.000000</td>\n",
       "      <td>100.000000</td>\n",
       "      <td>1015.000000</td>\n",
       "      <td>278.000000</td>\n",
       "      <td>3.600000</td>\n",
       "      <td>19.000000</td>\n",
       "    </tr>\n",
       "  </tbody>\n",
       "</table>\n",
       "</div>"
      ],
      "text/plain": [
       "            Bikes       Slots       Total    Humidity     Pressure  \\\n",
       "count  695.000000  695.000000  695.000000  695.000000   695.000000   \n",
       "mean     2.677698    5.532374    8.210072   90.566906   971.539396   \n",
       "std      0.585370    0.538197    0.407653   12.485417    33.624195   \n",
       "min      2.000000    4.000000    8.000000   45.000000   936.090000   \n",
       "25%      2.000000    5.000000    8.000000   87.000000   938.520000   \n",
       "50%      3.000000    6.000000    8.000000   96.000000   945.960000   \n",
       "75%      3.000000    6.000000    8.000000   99.000000  1006.000000   \n",
       "max      4.000000    6.000000    9.000000  100.000000  1015.000000   \n",
       "\n",
       "          WindDeg   WindSpeed  TemperatureTemp  \n",
       "count  695.000000  695.000000       695.000000  \n",
       "mean   181.054564    1.011396         9.550086  \n",
       "std     52.405662    0.497840         4.014416  \n",
       "min      4.502040    0.410000        -0.730000  \n",
       "25%    165.003000    0.770000         6.660000  \n",
       "50%    194.002000    0.860000         9.100000  \n",
       "75%    208.003000    0.980000        12.000000  \n",
       "max    278.000000    3.600000        19.000000  "
      ]
     },
     "execution_count": 5,
     "metadata": {},
     "output_type": "execute_result"
    }
   ],
   "source": [
    "df.describe()"
   ]
  },
  {
   "cell_type": "code",
   "execution_count": 6,
   "metadata": {},
   "outputs": [
    {
     "name": "stderr",
     "output_type": "stream",
     "text": [
      "/home/antoine/anaconda3/lib/python3.7/site-packages/pandas/plotting/_matplotlib/converter.py:103: FutureWarning: Using an implicitly registered datetime converter for a matplotlib plotting method. The converter was registered by pandas on import. Future versions of pandas will require you to explicitly register matplotlib converters.\n",
      "\n",
      "To register the converters:\n",
      "\t>>> from pandas.plotting import register_matplotlib_converters\n",
      "\t>>> register_matplotlib_converters()\n",
      "  warnings.warn(msg, FutureWarning)\n"
     ]
    },
    {
     "data": {
      "text/plain": [
       "[<matplotlib.lines.Line2D at 0x7f2e346ae610>]"
      ]
     },
     "execution_count": 6,
     "metadata": {},
     "output_type": "execute_result"
    },
    {
     "data": {
      "image/png": "[encoded data removed]",
      "text/plain": [
       "<Figure size 432x288 with 1 Axes>"
      ]
     },
     "metadata": {},
     "output_type": "display_data"
    }
   ],
   "source": [
    "plt.plot(df.Timestamp, df.Bikes)"
   ]
  },
  {
   "cell_type": "code",
   "execution_count": 7,
   "metadata": {},
   "outputs": [
    {
     "data": {
      "text/plain": [
       "[<matplotlib.lines.Line2D at 0x7f2e34371710>]"
      ]
     },
     "execution_count": 7,
     "metadata": {},
     "output_type": "execute_result"
    },
    {
     "data": {
      "image/png": "[encoded data removed]",
      "text/plain": [
       "<Figure size 432x288 with 1 Axes>"
      ]
     },
     "metadata": {},
     "output_type": "display_data"
    }
   ],
   "source": [
    "plt.plot(df.Timestamp, df.Pressure)"
   ]
  },
  {
   "cell_type": "code",
   "execution_count": 8,
   "metadata": {},
   "outputs": [
    {
     "data": {
      "text/plain": [
       "[<matplotlib.lines.Line2D at 0x7f2e34324050>]"
      ]
     },
     "execution_count": 8,
     "metadata": {},
     "output_type": "execute_result"
    },
    {
     "data": {
      "image/png": "[encoded data removed]",
      "text/plain": [
       "<Figure size 432x288 with 1 Axes>"
      ]
     },
     "metadata": {},
     "output_type": "display_data"
    }
   ],
   "source": [
    "plt.plot(df.Timestamp, df.WindDeg)"
   ]
  },
  {
   "cell_type": "code",
   "execution_count": 9,
   "metadata": {},
   "outputs": [
    {
     "data": {
      "text/html": [
       "<div>\n",
       "<style scoped>\n",
       "    .dataframe tbody tr th:only-of-type {\n",
       "        vertical-align: middle;\n",
       "    }\n",
       "\n",
       "    .dataframe tbody tr th {\n",
       "        vertical-align: top;\n",
       "    }\n",
       "\n",
       "    .dataframe thead th {\n",
       "        text-align: right;\n",
       "    }\n",
       "</style>\n",
       "<table border=\"1\" class=\"dataframe\">\n",
       "  <thead>\n",
       "    <tr style=\"text-align: right;\">\n",
       "      <th></th>\n",
       "      <th>Bikes</th>\n",
       "      <th>Slots</th>\n",
       "      <th>Total</th>\n",
       "      <th>Humidity</th>\n",
       "      <th>Pressure</th>\n",
       "      <th>WindDeg</th>\n",
       "      <th>WindSpeed</th>\n",
       "      <th>TemperatureTemp</th>\n",
       "    </tr>\n",
       "    <tr>\n",
       "      <th>Timestamp</th>\n",
       "      <th></th>\n",
       "      <th></th>\n",
       "      <th></th>\n",
       "      <th></th>\n",
       "      <th></th>\n",
       "      <th></th>\n",
       "      <th></th>\n",
       "      <th></th>\n",
       "    </tr>\n",
       "  </thead>\n",
       "  <tbody>\n",
       "    <tr>\n",
       "      <td>0</td>\n",
       "      <td>2.600000</td>\n",
       "      <td>5.600000</td>\n",
       "      <td>8.200000</td>\n",
       "      <td>96.400000</td>\n",
       "      <td>941.321333</td>\n",
       "      <td>185.468807</td>\n",
       "      <td>1.002333</td>\n",
       "      <td>5.867333</td>\n",
       "    </tr>\n",
       "    <tr>\n",
       "      <td>1</td>\n",
       "      <td>2.600000</td>\n",
       "      <td>5.600000</td>\n",
       "      <td>8.200000</td>\n",
       "      <td>96.133333</td>\n",
       "      <td>941.290333</td>\n",
       "      <td>187.585567</td>\n",
       "      <td>1.011667</td>\n",
       "      <td>5.767667</td>\n",
       "    </tr>\n",
       "    <tr>\n",
       "      <td>2</td>\n",
       "      <td>2.600000</td>\n",
       "      <td>5.600000</td>\n",
       "      <td>8.200000</td>\n",
       "      <td>96.633333</td>\n",
       "      <td>941.449667</td>\n",
       "      <td>183.601947</td>\n",
       "      <td>1.049667</td>\n",
       "      <td>5.986000</td>\n",
       "    </tr>\n",
       "    <tr>\n",
       "      <td>3</td>\n",
       "      <td>2.600000</td>\n",
       "      <td>5.600000</td>\n",
       "      <td>8.200000</td>\n",
       "      <td>96.166667</td>\n",
       "      <td>941.272000</td>\n",
       "      <td>188.368500</td>\n",
       "      <td>1.121333</td>\n",
       "      <td>5.900000</td>\n",
       "    </tr>\n",
       "    <tr>\n",
       "      <td>4</td>\n",
       "      <td>2.600000</td>\n",
       "      <td>5.600000</td>\n",
       "      <td>8.200000</td>\n",
       "      <td>96.700000</td>\n",
       "      <td>941.260000</td>\n",
       "      <td>185.234967</td>\n",
       "      <td>1.054667</td>\n",
       "      <td>5.890000</td>\n",
       "    </tr>\n",
       "    <tr>\n",
       "      <td>5</td>\n",
       "      <td>2.555556</td>\n",
       "      <td>5.666667</td>\n",
       "      <td>8.222222</td>\n",
       "      <td>96.814815</td>\n",
       "      <td>940.709259</td>\n",
       "      <td>185.650111</td>\n",
       "      <td>1.059630</td>\n",
       "      <td>6.234074</td>\n",
       "    </tr>\n",
       "    <tr>\n",
       "      <td>6</td>\n",
       "      <td>2.500000</td>\n",
       "      <td>5.750000</td>\n",
       "      <td>8.250000</td>\n",
       "      <td>96.666667</td>\n",
       "      <td>945.692500</td>\n",
       "      <td>181.213208</td>\n",
       "      <td>1.050417</td>\n",
       "      <td>7.307917</td>\n",
       "    </tr>\n",
       "    <tr>\n",
       "      <td>7</td>\n",
       "      <td>2.500000</td>\n",
       "      <td>5.750000</td>\n",
       "      <td>8.250000</td>\n",
       "      <td>93.625000</td>\n",
       "      <td>970.156250</td>\n",
       "      <td>180.944375</td>\n",
       "      <td>1.183750</td>\n",
       "      <td>8.918750</td>\n",
       "    </tr>\n",
       "    <tr>\n",
       "      <td>8</td>\n",
       "      <td>2.500000</td>\n",
       "      <td>5.750000</td>\n",
       "      <td>8.250000</td>\n",
       "      <td>97.000000</td>\n",
       "      <td>977.874167</td>\n",
       "      <td>178.672375</td>\n",
       "      <td>1.100417</td>\n",
       "      <td>8.450833</td>\n",
       "    </tr>\n",
       "    <tr>\n",
       "      <td>9</td>\n",
       "      <td>2.846154</td>\n",
       "      <td>5.423077</td>\n",
       "      <td>8.269231</td>\n",
       "      <td>95.538462</td>\n",
       "      <td>991.131538</td>\n",
       "      <td>171.156723</td>\n",
       "      <td>1.258077</td>\n",
       "      <td>9.133077</td>\n",
       "    </tr>\n",
       "    <tr>\n",
       "      <td>10</td>\n",
       "      <td>3.000000</td>\n",
       "      <td>5.200000</td>\n",
       "      <td>8.200000</td>\n",
       "      <td>90.800000</td>\n",
       "      <td>1001.221000</td>\n",
       "      <td>171.736453</td>\n",
       "      <td>1.062000</td>\n",
       "      <td>10.507667</td>\n",
       "    </tr>\n",
       "    <tr>\n",
       "      <td>11</td>\n",
       "      <td>3.000000</td>\n",
       "      <td>5.200000</td>\n",
       "      <td>8.200000</td>\n",
       "      <td>84.966667</td>\n",
       "      <td>1003.766000</td>\n",
       "      <td>166.952980</td>\n",
       "      <td>1.179667</td>\n",
       "      <td>11.994000</td>\n",
       "    </tr>\n",
       "    <tr>\n",
       "      <td>12</td>\n",
       "      <td>3.033333</td>\n",
       "      <td>5.166667</td>\n",
       "      <td>8.200000</td>\n",
       "      <td>80.233333</td>\n",
       "      <td>1006.241667</td>\n",
       "      <td>168.502207</td>\n",
       "      <td>0.934333</td>\n",
       "      <td>13.276667</td>\n",
       "    </tr>\n",
       "    <tr>\n",
       "      <td>13</td>\n",
       "      <td>3.000000</td>\n",
       "      <td>5.200000</td>\n",
       "      <td>8.200000</td>\n",
       "      <td>78.100000</td>\n",
       "      <td>1005.808333</td>\n",
       "      <td>165.286007</td>\n",
       "      <td>1.340667</td>\n",
       "      <td>13.910000</td>\n",
       "    </tr>\n",
       "    <tr>\n",
       "      <td>14</td>\n",
       "      <td>2.833333</td>\n",
       "      <td>5.366667</td>\n",
       "      <td>8.200000</td>\n",
       "      <td>80.333333</td>\n",
       "      <td>994.115333</td>\n",
       "      <td>167.551907</td>\n",
       "      <td>0.934333</td>\n",
       "      <td>13.727333</td>\n",
       "    </tr>\n",
       "    <tr>\n",
       "      <td>15</td>\n",
       "      <td>2.600000</td>\n",
       "      <td>5.600000</td>\n",
       "      <td>8.200000</td>\n",
       "      <td>76.400000</td>\n",
       "      <td>993.540333</td>\n",
       "      <td>202.001705</td>\n",
       "      <td>0.833333</td>\n",
       "      <td>14.400000</td>\n",
       "    </tr>\n",
       "    <tr>\n",
       "      <td>16</td>\n",
       "      <td>2.600000</td>\n",
       "      <td>5.600000</td>\n",
       "      <td>8.200000</td>\n",
       "      <td>75.466667</td>\n",
       "      <td>993.645333</td>\n",
       "      <td>163.301212</td>\n",
       "      <td>0.868333</td>\n",
       "      <td>14.445000</td>\n",
       "    </tr>\n",
       "    <tr>\n",
       "      <td>17</td>\n",
       "      <td>2.600000</td>\n",
       "      <td>5.600000</td>\n",
       "      <td>8.200000</td>\n",
       "      <td>84.000000</td>\n",
       "      <td>982.734333</td>\n",
       "      <td>172.967575</td>\n",
       "      <td>0.856333</td>\n",
       "      <td>12.566667</td>\n",
       "    </tr>\n",
       "    <tr>\n",
       "      <td>18</td>\n",
       "      <td>2.600000</td>\n",
       "      <td>5.600000</td>\n",
       "      <td>8.200000</td>\n",
       "      <td>89.966667</td>\n",
       "      <td>978.472000</td>\n",
       "      <td>194.784587</td>\n",
       "      <td>0.838333</td>\n",
       "      <td>10.992333</td>\n",
       "    </tr>\n",
       "    <tr>\n",
       "      <td>19</td>\n",
       "      <td>2.600000</td>\n",
       "      <td>5.600000</td>\n",
       "      <td>8.200000</td>\n",
       "      <td>93.200000</td>\n",
       "      <td>978.322000</td>\n",
       "      <td>188.602077</td>\n",
       "      <td>0.822333</td>\n",
       "      <td>10.325667</td>\n",
       "    </tr>\n",
       "    <tr>\n",
       "      <td>20</td>\n",
       "      <td>2.600000</td>\n",
       "      <td>5.633333</td>\n",
       "      <td>8.233333</td>\n",
       "      <td>95.600000</td>\n",
       "      <td>973.917000</td>\n",
       "      <td>190.069250</td>\n",
       "      <td>0.873000</td>\n",
       "      <td>9.285333</td>\n",
       "    </tr>\n",
       "    <tr>\n",
       "      <td>21</td>\n",
       "      <td>2.600000</td>\n",
       "      <td>5.600000</td>\n",
       "      <td>8.200000</td>\n",
       "      <td>94.833333</td>\n",
       "      <td>980.483000</td>\n",
       "      <td>181.053997</td>\n",
       "      <td>0.957667</td>\n",
       "      <td>9.693667</td>\n",
       "    </tr>\n",
       "    <tr>\n",
       "      <td>22</td>\n",
       "      <td>2.600000</td>\n",
       "      <td>5.600000</td>\n",
       "      <td>8.200000</td>\n",
       "      <td>96.166667</td>\n",
       "      <td>947.125000</td>\n",
       "      <td>189.205327</td>\n",
       "      <td>0.984333</td>\n",
       "      <td>7.243667</td>\n",
       "    </tr>\n",
       "    <tr>\n",
       "      <td>23</td>\n",
       "      <td>2.600000</td>\n",
       "      <td>5.600000</td>\n",
       "      <td>8.200000</td>\n",
       "      <td>96.266667</td>\n",
       "      <td>940.747333</td>\n",
       "      <td>194.070763</td>\n",
       "      <td>0.994667</td>\n",
       "      <td>6.196667</td>\n",
       "    </tr>\n",
       "  </tbody>\n",
       "</table>\n",
       "</div>"
      ],
      "text/plain": [
       "              Bikes     Slots     Total   Humidity     Pressure     WindDeg  \\\n",
       "Timestamp                                                                     \n",
       "0          2.600000  5.600000  8.200000  96.400000   941.321333  185.468807   \n",
       "1          2.600000  5.600000  8.200000  96.133333   941.290333  187.585567   \n",
       "2          2.600000  5.600000  8.200000  96.633333   941.449667  183.601947   \n",
       "3          2.600000  5.600000  8.200000  96.166667   941.272000  188.368500   \n",
       "4          2.600000  5.600000  8.200000  96.700000   941.260000  185.234967   \n",
       "5          2.555556  5.666667  8.222222  96.814815   940.709259  185.650111   \n",
       "6          2.500000  5.750000  8.250000  96.666667   945.692500  181.213208   \n",
       "7          2.500000  5.750000  8.250000  93.625000   970.156250  180.944375   \n",
       "8          2.500000  5.750000  8.250000  97.000000   977.874167  178.672375   \n",
       "9          2.846154  5.423077  8.269231  95.538462   991.131538  171.156723   \n",
       "10         3.000000  5.200000  8.200000  90.800000  1001.221000  171.736453   \n",
       "11         3.000000  5.200000  8.200000  84.966667  1003.766000  166.952980   \n",
       "12         3.033333  5.166667  8.200000  80.233333  1006.241667  168.502207   \n",
       "13         3.000000  5.200000  8.200000  78.100000  1005.808333  165.286007   \n",
       "14         2.833333  5.366667  8.200000  80.333333   994.115333  167.551907   \n",
       "15         2.600000  5.600000  8.200000  76.400000   993.540333  202.001705   \n",
       "16         2.600000  5.600000  8.200000  75.466667   993.645333  163.301212   \n",
       "17         2.600000  5.600000  8.200000  84.000000   982.734333  172.967575   \n",
       "18         2.600000  5.600000  8.200000  89.966667   978.472000  194.784587   \n",
       "19         2.600000  5.600000  8.200000  93.200000   978.322000  188.602077   \n",
       "20         2.600000  5.633333  8.233333  95.600000   973.917000  190.069250   \n",
       "21         2.600000  5.600000  8.200000  94.833333   980.483000  181.053997   \n",
       "22         2.600000  5.600000  8.200000  96.166667   947.125000  189.205327   \n",
       "23         2.600000  5.600000  8.200000  96.266667   940.747333  194.070763   \n",
       "\n",
       "           WindSpeed  TemperatureTemp  \n",
       "Timestamp                              \n",
       "0           1.002333         5.867333  \n",
       "1           1.011667         5.767667  \n",
       "2           1.049667         5.986000  \n",
       "3           1.121333         5.900000  \n",
       "4           1.054667         5.890000  \n",
       "5           1.059630         6.234074  \n",
       "6           1.050417         7.307917  \n",
       "7           1.183750         8.918750  \n",
       "8           1.100417         8.450833  \n",
       "9           1.258077         9.133077  \n",
       "10          1.062000        10.507667  \n",
       "11          1.179667        11.994000  \n",
       "12          0.934333        13.276667  \n",
       "13          1.340667        13.910000  \n",
       "14          0.934333        13.727333  \n",
       "15          0.833333        14.400000  \n",
       "16          0.868333        14.445000  \n",
       "17          0.856333        12.566667  \n",
       "18          0.838333        10.992333  \n",
       "19          0.822333        10.325667  \n",
       "20          0.873000         9.285333  \n",
       "21          0.957667         9.693667  \n",
       "22          0.984333         7.243667  \n",
       "23          0.994667         6.196667  "
      ]
     },
     "execution_count": 9,
     "metadata": {},
     "output_type": "execute_result"
    }
   ],
   "source": [
    "df1 = df.set_index('Timestamp')\n",
    "\n",
    "mean_hours = df1.groupby([df1.index.hour]).mean()\n",
    "mean_hours"
   ]
  },
  {
   "cell_type": "code",
   "execution_count": 10,
   "metadata": {},
   "outputs": [
    {
     "name": "stderr",
     "output_type": "stream",
     "text": [
      "/home/antoine/anaconda3/lib/python3.7/site-packages/ipykernel_launcher.py:9: MatplotlibDeprecationWarning: Adding an axes using the same arguments as a previous axes currently reuses the earlier instance.  In a future version, a new instance will always be created and returned.  Meanwhile, this warning can be suppressed, and the future behavior ensured, by passing a unique label to each axes instance.\n",
      "  if __name__ == '__main__':\n",
      "/home/antoine/anaconda3/lib/python3.7/site-packages/ipykernel_launcher.py:11: MatplotlibDeprecationWarning: Adding an axes using the same arguments as a previous axes currently reuses the earlier instance.  In a future version, a new instance will always be created and returned.  Meanwhile, this warning can be suppressed, and the future behavior ensured, by passing a unique label to each axes instance.\n",
      "  # This is added back by InteractiveShellApp.init_path()\n"
     ]
    },
    {
     "data": {
      "text/plain": [
       "[<matplotlib.lines.Line2D at 0x7f2e340c9b50>]"
      ]
     },
     "execution_count": 10,
     "metadata": {},
     "output_type": "execute_result"
    },
    {
     "data": {
      "image/png": "[encoded data removed]",
      "text/plain": [
       "<Figure size 432x288 with 4 Axes>"
      ]
     },
     "metadata": {},
     "output_type": "display_data"
    }
   ],
   "source": [
    "plt.subplot(321)\n",
    "plt.bar(mean_hours.index, mean_hours.Humidity)\n",
    "plt.subplot(323)\n",
    "plt.bar(mean_hours.index, mean_hours.Bikes)\n",
    "plt.subplot(322)\n",
    "plt.plot(mean_hours.index, mean_hours.WindDeg)\n",
    "plt.subplot(324)\n",
    "plt.plot(mean_hours.index, mean_hours.WindSpeed)\n",
    "plt.subplot(322)\n",
    "plt.plot(mean_hours.index, mean_hours.WindDeg)\n",
    "plt.subplot(324)\n",
    "plt.plot(mean_hours.index, mean_hours.WindSpeed)"
   ]
  },
  {
   "cell_type": "code",
   "execution_count": 11,
   "metadata": {
    "scrolled": true
   },
   "outputs": [
    {
     "data": {
      "text/plain": [
       "<BarContainer object of 24 artists>"
      ]
     },
     "execution_count": 11,
     "metadata": {},
     "output_type": "execute_result"
    },
    {
     "data": {
      "image/png": "[encoded data removed]",
      "text/plain": [
       "<Figure size 432x288 with 1 Axes>"
      ]
     },
     "metadata": {},
     "output_type": "display_data"
    }
   ],
   "source": [
    "plt.bar(mean_hours.index, mean_hours.Humidity)"
   ]
  },
  {
   "cell_type": "code",
   "execution_count": 12,
   "metadata": {},
   "outputs": [
    {
     "data": {
      "text/plain": [
       "<BarContainer object of 24 artists>"
      ]
     },
     "execution_count": 12,
     "metadata": {},
     "output_type": "execute_result"
    },
    {
     "data": {
      "image/png": "[encoded data removed]",
      "text/plain": [
       "<Figure size 432x288 with 1 Axes>"
      ]
     },
     "metadata": {},
     "output_type": "display_data"
    }
   ],
   "source": [
    "plt.bar(mean_hours.index, mean_hours.Bikes)"
   ]
  },
  {
   "cell_type": "code",
   "execution_count": 13,
   "metadata": {},
   "outputs": [
    {
     "data": {
      "text/plain": [
       "[<matplotlib.lines.Line2D at 0x7f2e33f4fd90>]"
      ]
     },
     "execution_count": 13,
     "metadata": {},
     "output_type": "execute_result"
    },
    {
     "data": {
      "image/png": "[encoded data removed]",
      "text/plain": [
       "<Figure size 432x288 with 1 Axes>"
      ]
     },
     "metadata": {},
     "output_type": "display_data"
    }
   ],
   "source": [
    "plt.plot(mean_hours.index, mean_hours.Total)"
   ]
  },
  {
   "cell_type": "code",
   "execution_count": 14,
   "metadata": {},
   "outputs": [
    {
     "data": {
      "text/plain": [
       "[<matplotlib.lines.Line2D at 0x7f2e33f1e690>]"
      ]
     },
     "execution_count": 14,
     "metadata": {},
     "output_type": "execute_result"
    },
    {
     "data": {
      "image/png": "[encoded data removed]",
      "text/plain": [
       "<Figure size 432x288 with 1 Axes>"
      ]
     },
     "metadata": {},
     "output_type": "display_data"
    }
   ],
   "source": [
    "plt.plot(mean_hours.index, mean_hours.Bikes) #voir pour comparer bikes/total, pie ? \n",
    "#-> probleme on doit faire un camembert pour chaque heure"
   ]
  },
  {
   "cell_type": "code",
   "execution_count": 15,
   "metadata": {},
   "outputs": [
    {
     "data": {
      "text/plain": [
       "<matplotlib.collections.PathCollection at 0x7f2e33e4bd10>"
      ]
     },
     "execution_count": 15,
     "metadata": {},
     "output_type": "execute_result"
    },
    {
     "data": {
      "image/png": "[encoded data removed]",
      "text/plain": [
       "<Figure size 432x288 with 1 Axes>"
      ]
     },
     "metadata": {},
     "output_type": "display_data"
    }
   ],
   "source": [
    "plt.scatter(mean_hours.Bikes, mean_hours.Total) #criticable à voir si utile"
   ]
  },
  {
   "cell_type": "code",
   "execution_count": 113,
   "metadata": {},
   "outputs": [],
   "source": [
    "def board(name):\n",
    "    with gzip.open(f\"data/clean/{name}\", \"rb\") as day:\n",
    "        df = pd.read_csv(day, sep=\";\", parse_dates=['Timestamp'])\n",
    "        \n",
    "    #mean_hours = df.groupby([df.Timestamp.hour]).mean()\n",
    "    \n",
    "    nb_plots = 10\n",
    "    d = mdates.date2num(df.Timestamp)\n",
    "    \n",
    "    ax1 = plt.subplot(221)\n",
    "    plt.plot(d, df.WindDeg)\n",
    "    plt.plot(d, df.Humidity)\n",
    "    fmt = mdates.DateFormatter('%H:%M')\n",
    "    ax1.xaxis.set_major_formatter(fmt)\n",
    "    plt.gca().legend(('WindDeg','Humidity'))\n",
    "\n",
    "    \n",
    "    ax2 = plt.subplot(223)\n",
    "    plt.plot(d, df.Total)\n",
    "    plt.plot(d, df.Bikes)\n",
    "    plt.plot(d, df.Slots)\n",
    "    plt.gca().legend(('Total','Bikes','Slots'))\n",
    "    fmt = mdates.DateFormatter('%H:%M')\n",
    "    ax2.xaxis.set_major_formatter(fmt)\n",
    "    \n",
    "    ax3 = plt.subplot(222)\n",
    "    plt.boxplot(df.Humidity)\n",
    "    \n",
    "    ax4 = plt.subplot(224)\n",
    "    plt.violinplot(df.Bikes)\n",
    "    \n",
    "    plt.show()\n",
    "    df.describe()\n",
    "\n",
    "    \"\"\"\n",
    "    plt.plot(df.Timestamp, df.Bikes)\n",
    "    plt.plot(df.Timestamp, df.Pressure)\n",
    "    plt.plot(df.Timestamp, df.WindDeg)\n",
    "    df1 = df.set_index('Timestamp')\n",
    "    mean_hours\n",
    "    plt.bar(mean_hours.index, mean_hours.Humidity)\n",
    "    plt.bar(mean_hours.index, mean_hours.Bikes)\n",
    "    plt.plot(mean_hours.index, mean_hours.Total)\n",
    "    plt.plot(mean_hours.index, mean_hours.Bikes)\n",
    "    plt.scatter(mean_hours.Bikes, mean_hours.Total)\n",
    "    plt.show() #mettre les différents plots sous forme de subplot/figure\n",
    "    \"\"\""
   ]
  },
  {
   "cell_type": "code",
   "execution_count": 114,
   "metadata": {},
   "outputs": [
    {
     "data": {
      "image/png": "[encoded data removed]",
      "text/plain": [
       "<Figure size 432x288 with 4 Axes>"
      ]
     },
     "metadata": {},
     "output_type": "display_data"
    }
   ],
   "source": [
    "board('01. Duc/2014-11-14 09:40:00.csv.gz')"
   ]
  },
  {
   "cell_type": "code",
   "execution_count": null,
   "metadata": {},
   "outputs": [],
   "source": []
  }
 ],
 "metadata": {
  "kernelspec": {
   "display_name": "Python 3",
   "language": "python",
   "name": "python3"
  },
  "language_info": {
   "codemirror_mode": {
    "name": "ipython",
    "version": 3
   },
   "file_extension": ".py",
   "mimetype": "text/x-python",
   "name": "python",
   "nbconvert_exporter": "python",
   "pygments_lexer": "ipython3",
   "version": "3.7.4"
  }
 },
 "nbformat": 4,
 "nbformat_minor": 2
}
