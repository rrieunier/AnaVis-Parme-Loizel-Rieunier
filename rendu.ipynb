{
 "cells": [
  {
   "cell_type": "code",
   "execution_count": null,
   "metadata": {},
   "outputs": [],
   "source": [
    "%matplotlib inline"
   ]
  },
  {
   "cell_type": "code",
   "execution_count": null,
   "metadata": {},
   "outputs": [],
   "source": [
    "import numpy as np\n",
    "import pandas as pd\n",
    "from matplotlib import pyplot as plt, dates as mdates\n",
    "import seaborn as sns\n",
    "import gzip\n",
    "import os\n",
    "import matplotlib.dates as mdates\n",
    "\n",
    "sns.set(style=\"darkgrid\")"
   ]
  },
  {
   "cell_type": "code",
   "execution_count": null,
   "metadata": {},
   "outputs": [],
   "source": [
    "#with gzip.open('data/clean.tar.gz') as gz:\n",
    "#    print(gz.read())\n",
    "\n",
    "with gzip.open('data/clean/01. Duc/2014-11-14 09:40:00.csv.gz', \"rb\") as day:\n",
    "    df = pd.read_csv(day, sep=\";\", parse_dates=['Timestamp'])"
   ]
  },
  {
   "cell_type": "code",
   "execution_count": null,
   "metadata": {},
   "outputs": [],
   "source": [
    "df.describe()"
   ]
  },
  {
   "cell_type": "code",
   "execution_count": null,
   "metadata": {},
   "outputs": [],
   "source": [
    "plt.plot(df.Timestamp, df.Bikes)"
   ]
  },
  {
   "cell_type": "code",
   "execution_count": null,
   "metadata": {},
   "outputs": [],
   "source": [
    "plt.plot(df.Timestamp, df.Pressure)"
   ]
  },
  {
   "cell_type": "code",
   "execution_count": null,
   "metadata": {},
   "outputs": [],
   "source": [
    "plt.plot(df.Timestamp, df.WindDeg)"
   ]
  },
  {
   "cell_type": "code",
   "execution_count": null,
   "metadata": {},
   "outputs": [],
   "source": [
    "df1 = df.set_index('Timestamp')\n",
    "\n",
    "mean_hours = df1.groupby([df1.index.hour]).mean()\n",
    "mean_hours"
   ]
  },
  {
   "cell_type": "code",
   "execution_count": null,
   "metadata": {},
   "outputs": [],
   "source": [
    "plt.subplot(321)\n",
    "plt.bar(mean_hours.index, mean_hours.Humidity)\n",
    "plt.subplot(323)\n",
    "plt.bar(mean_hours.index, mean_hours.Bikes)\n",
    "plt.subplot(322)\n",
    "plt.plot(mean_hours.index, mean_hours.WindDeg)\n",
    "plt.subplot(324)\n",
    "plt.plot(mean_hours.index, mean_hours.WindSpeed)\n",
    "plt.subplot(322)\n",
    "plt.plot(mean_hours.index, mean_hours.WindDeg)\n",
    "plt.subplot(324)\n",
    "plt.plot(mean_hours.index, mean_hours.WindSpeed)"
   ]
  },
  {
   "cell_type": "code",
   "execution_count": null,
   "metadata": {
    "scrolled": true
   },
   "outputs": [],
   "source": [
    "plt.bar(mean_hours.index, mean_hours.Humidity)"
   ]
  },
  {
   "cell_type": "code",
   "execution_count": null,
   "metadata": {},
   "outputs": [],
   "source": [
    "plt.bar(mean_hours.index, mean_hours.Bikes)"
   ]
  },
  {
   "cell_type": "code",
   "execution_count": null,
   "metadata": {},
   "outputs": [],
   "source": [
    "plt.plot(mean_hours.index, mean_hours.Total)"
   ]
  },
  {
   "cell_type": "code",
   "execution_count": null,
   "metadata": {},
   "outputs": [],
   "source": [
    "plt.plot(mean_hours.index, mean_hours.Bikes) #voir pour comparer bikes/total, pie ? \n",
    "#-> probleme on doit faire un camembert pour chaque heure"
   ]
  },
  {
   "cell_type": "code",
   "execution_count": null,
   "metadata": {},
   "outputs": [],
   "source": [
    "plt.scatter(mean_hours.Bikes, mean_hours.Total) #criticable à voir si utile"
   ]
  },
  {
   "cell_type": "code",
   "execution_count": null,
   "metadata": {},
   "outputs": [],
   "source": [
    "def board(name):\n",
    "    with gzip.open(f\"data/clean/{name}\", \"rb\") as day:\n",
    "        df = pd.read_csv(day, sep=\";\", parse_dates=['Timestamp'])\n",
    "    df.describe()\n",
    "    \n",
    "    mean_hours = df1.groupby([df1.index.hour]).mean()\n",
    "    \n",
    "    nb_plots = 10\n",
    "    \n",
    "    plt.subplot(221)\n",
    "    \n",
    "    ax = plt.subplot(223)\n",
    "    d = mdates.date2num(df.Timestamp)\n",
    "    plt.plot(d, df.Total)\n",
    "    plt.plot(d, df.Bikes)\n",
    "    plt.plot(d, df.Slots)\n",
    "    \n",
    "    fmt = mdates.DateFormatter('%H:%m')\n",
    "    ax.xaxis.set_major_formatter(fmt)\n",
    "    \n",
    "    \n",
    "    plt.show()\n",
    "    \"\"\"\n",
    "    plt.plot(df.Timestamp, df.Bikes)\n",
    "    plt.plot(df.Timestamp, df.Pressure)\n",
    "    plt.plot(df.Timestamp, df.WindDeg)\n",
    "    df1 = df.set_index('Timestamp')\n",
    "    mean_hours\n",
    "    plt.bar(mean_hours.index, mean_hours.Humidity)\n",
    "    plt.bar(mean_hours.index, mean_hours.Bikes)\n",
    "    plt.plot(mean_hours.index, mean_hours.Total)\n",
    "    plt.plot(mean_hours.index, mean_hours.Bikes)\n",
    "    plt.scatter(mean_hours.Bikes, mean_hours.Total)\n",
    "    plt.show() #mettre les différents plots sous forme de subplot/figure\n",
    "    \"\"\""
   ]
  },
  {
   "cell_type": "code",
   "execution_count": null,
   "metadata": {},
   "outputs": [],
   "source": [
    "board('01. Duc/2014-11-14 09:40:00.csv.gz')"
   ]
  },
  {
   "cell_type": "code",
   "execution_count": null,
   "metadata": {},
   "outputs": [],
   "source": []
  }
 ],
 "metadata": {
  "kernelspec": {
   "display_name": "Python 3",
   "language": "python",
   "name": "python3"
  },
  "language_info": {
   "codemirror_mode": {
    "name": "ipython",
    "version": 3
   },
   "file_extension": ".py",
   "mimetype": "text/x-python",
   "name": "python",
   "nbconvert_exporter": "python",
   "pygments_lexer": "ipython3",
   "version": "3.7.4"
  }
 },
 "nbformat": 4,
 "nbformat_minor": 2
}
