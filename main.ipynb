{
 "cells": [
  {
   "cell_type": "markdown",
   "metadata": {},
   "source": [
    "# Imports"
   ]
  },
  {
   "cell_type": "code",
   "execution_count": null,
   "metadata": {},
   "outputs": [],
   "source": [
    "from zipfile import ZipFile\n",
    "from gzip import compress\n",
    "import os\n",
    "import pandas as pd"
   ]
  },
  {
   "cell_type": "markdown",
   "metadata": {},
   "source": [
    "# Récupération des données"
   ]
  },
  {
   "cell_type": "code",
   "execution_count": null,
   "metadata": {},
   "outputs": [],
   "source": [
    "data = ZipFile('data/brut.zip', 'r')\n",
    "\n",
    "stations = pd.read_csv(data.open('brut/bicincitta_parma_summary.csv'), sep=';')\n",
    "\n",
    "status_header = ['date', 'Station', 'Status', 'Bikes', 'Slots']\n",
    "status = pd.read_csv(data.open('brut/status_bicincitta_parma.csv'), sep=';', names=status_header,\n",
    "                     parse_dates=[\"date\"]).head(n=10000)\n",
    "\n",
    "weather_header = ['Timestamp', 'Status', 'Clouds', 'Humidity', 'Pressure', 'Rain', 'WindGust', 'WindVarEnd', 'WindVarBeg', 'WindDeg', 'WindSpeed', 'Snow', 'TemperatureMax', 'TemperatureMin', 'TemperatureTemp']\n",
    "weather = pd.read_csv(data.open('brut/weather_bicincitta_parma.csv'), sep=';', names=weather_header,\n",
    "                      parse_dates=[\"Timestamp\"]).head(n=10000)"
   ]
  },
  {
   "cell_type": "markdown",
   "metadata": {},
   "source": [
    "# Nettoyage / correction des données"
   ]
  },
  {
   "cell_type": "code",
   "execution_count": null,
   "metadata": {},
   "outputs": [],
   "source": [
    "# Remove numbering in station names\n",
    "stations['station'] = stations['station'].apply(lambda x: x[4:])\n",
    "\n",
    "# Check statuses in stations stats then remove column\n",
    "status = status[status['Status'] == 1]\n",
    "status = status.drop('Status', axis=1)\n",
    "\n",
    "# Add \"Total\" column to status\n",
    "status[\"Total\"] = status[\"Bikes\"] + status[\"Slots\"]"
   ]
  },
  {
   "cell_type": "markdown",
   "metadata": {},
   "source": [
    "# Stockage et compression des résultats groupés"
   ]
  },
  {
   "cell_type": "code",
   "execution_count": null,
   "metadata": {},
   "outputs": [],
   "source": [
    "indexes_to_keep = ['Timestamp', 'Station', 'Bikes', 'Slots', 'Total', 'Status', 'Humidity', 'Pressure', 'Rain', 'WindDeg', 'WindSpeed', 'Snow', 'TemperatureTemp']\n",
    "for key, df in status.groupby(\"Station\"):\n",
    "    path = f\"data/{key.lower().replace(' ', '_')}\"\n",
    "    os.makedirs(path, exist_ok=True)\n",
    "    \n",
    "    s = df.set_index('date').resample('10min', label='right', closed='right').last().dropna().reset_index()\n",
    "    w = weather.set_index('Timestamp').resample('10Min', label='right', closed='right').last().dropna().reset_index()\n",
    "    velo = pd.merge(left=s, right=w, left_on='date', right_on='Timestamp', how='left')[indexes_to_keep]\n",
    "    \n",
    "    velo_gz = compress(velo.to_csv(sep=\";\", index=False).encode('utf-8'))\n",
    "    with open(f\"{path}/station.csv.gz\", 'wb') as file:\n",
    "        file.write(velo_gz)"
   ]
  }
 ],
 "metadata": {
  "kernelspec": {
   "display_name": "Python 3",
   "language": "python",
   "name": "python3"
  },
  "language_info": {
   "codemirror_mode": {
    "name": "ipython",
    "version": 3
   },
   "file_extension": ".py",
   "mimetype": "text/x-python",
   "name": "python",
   "nbconvert_exporter": "python",
   "pygments_lexer": "ipython3",
   "version": "3.7.5"
  },
  "pycharm": {
   "stem_cell": {
    "cell_type": "raw",
    "metadata": {
     "collapsed": false
    },
    "source": []
   }
  }
 },
 "nbformat": 4,
 "nbformat_minor": 1
}
