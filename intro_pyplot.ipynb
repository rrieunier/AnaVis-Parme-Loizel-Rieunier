{
 "cells": [
  {
   "cell_type": "code",
   "execution_count": null,
   "metadata": {},
   "outputs": [],
   "source": [
    "import matplotlib.pyplot as plt\n",
    "import math\n",
    "import numpy as np\n",
    "\n",
    "%matplotlib inline"
   ]
  },
  {
   "cell_type": "code",
   "execution_count": null,
   "metadata": {},
   "outputs": [],
   "source": [
    "x = np.arange(100)\n",
    "y = np.random.rand(100, 1).reshape(100)\n",
    "plt.plot(x, y, color='green', marker='x', linestyle='dotted', linewidth=4, markersize=12)"
   ]
  },
  {
   "cell_type": "code",
   "execution_count": null,
   "metadata": {},
   "outputs": [],
   "source": [
    "def oncer(x,y):\n",
    "    #assert isinstance(x, list)\n",
    "    #assert isinstance(y, list)\n",
    "    plt.plot(x,y)\n",
    "    \n",
    "oncer(x,y)"
   ]
  },
  {
   "cell_type": "code",
   "execution_count": null,
   "metadata": {},
   "outputs": [],
   "source": [
    "def enseur_sinus():\n",
    "    x = np.linspace(-2*math.pi, 2*math.pi, 100)\n",
    "    y = np.sin(x)\n",
    "    oncer(x,y)\n",
    "    oncer(x, np.cos(x))"
   ]
  },
  {
   "cell_type": "code",
   "execution_count": null,
   "metadata": {},
   "outputs": [],
   "source": [
    "oncer(x, y)"
   ]
  },
  {
   "cell_type": "code",
   "execution_count": null,
   "metadata": {},
   "outputs": [],
   "source": [
    "enseur_sinus()\n",
    "oncer(np.linspace(-2*math.pi, 2*math.pi, 100), np.cos(np.linspace(-2*math.pi, 2*math.pi, 100)))"
   ]
  },
  {
   "cell_type": "code",
   "execution_count": null,
   "metadata": {},
   "outputs": [],
   "source": [
    "def try_scat(x,y):\n",
    "    plt.scatter(np.array(x), np.array(y))\n",
    "    "
   ]
  },
  {
   "cell_type": "code",
   "execution_count": null,
   "metadata": {},
   "outputs": [],
   "source": [
    "try_scat(x,y)"
   ]
  },
  {
   "cell_type": "code",
   "execution_count": null,
   "metadata": {},
   "outputs": [],
   "source": [
    "def try_bar(x,h,labels):\n",
    "    plt.bar(x, h)\n",
    "    plt.xticks(x, labels, rotation=65)"
   ]
  },
  {
   "cell_type": "markdown",
   "metadata": {},
   "source": [
    "NE PAS OUBLIER DE RESHAPE LE PARAM HEIGHT"
   ]
  },
  {
   "cell_type": "code",
   "execution_count": null,
   "metadata": {},
   "outputs": [],
   "source": [
    "c = [\"abcd\" for i in range(100)]\n",
    "try_bar(x,y, c)\n"
   ]
  },
  {
   "cell_type": "code",
   "execution_count": null,
   "metadata": {},
   "outputs": [],
   "source": [
    "def bar_labels_err(labels, data):\n",
    "    ind = np.arange(len(labels))\n",
    "    plt.bar(ind, data.mean(axis=1).reshape(10), yerr=data.std(axis=1))\n",
    "    plt.xticks(ind, labels, rotation=45)\n",
    "    \n",
    "data = np.random.rand(10, 10)\n",
    "\n",
    "bar_labels_err([str(i) for i in range(10)], data)"
   ]
  },
  {
   "cell_type": "code",
   "execution_count": null,
   "metadata": {},
   "outputs": [],
   "source": [
    "def inir_hist(data, n):\n",
    "    plt.hist(data, n)\n",
    "\n",
    "inir_hist(np.arange(100), 6)"
   ]
  },
  {
   "cell_type": "code",
   "execution_count": null,
   "metadata": {},
   "outputs": [],
   "source": [
    "def inition_bt_moust(data):\n",
    "    plt.boxplot(data)\n",
    "    \n",
    "inition_bt_moust(np.random.rand(10,20))"
   ]
  },
  {
   "cell_type": "code",
   "execution_count": null,
   "metadata": {},
   "outputs": [],
   "source": [
    "def bubble_chart(x, y, z):\n",
    "    plt.scatter(x, y, s=100*z**2)\n",
    "    \n",
    "n = 20\n",
    "\n",
    "x, y, s = np.random.rand(n), np.random.rand(n), np.random.rand(n)\n",
    "bubble_chart(x, y, s)"
   ]
  },
  {
   "cell_type": "code",
   "execution_count": null,
   "metadata": {},
   "outputs": [],
   "source": [
    "def pairplot(data):\n",
    "    \n",
    "    for i in range(data.shape[0]):\n",
    "        for j in range(data.shape[1]):\n",
    "            print(i, j, sep=\",\")\n",
    "            plt.subplot(data.shape[0], data.shape[1], i + j + 1)\n",
    "            plt.scatter(data[i,:], data[:,j])\n",
    "            plt.subplot(data.shape[0], data.shape[1], data.shape[0], data.shape[1] - i - j - 1)\n",
    "            plt.scatter(data[:,j], data[i,:])\n",
    "    \n",
    "    \n",
    "#    for (i, d) in enumerate(data):\n",
    "#        plt.subplot(len(data), len(d), i + 1)\n",
    "#        plt.scatter(np.arange(len(d)), d)\n",
    "#    plt.show()\n",
    "\n",
    "pairplot(np.random.rand(11, 12))\n",
    "\n"
   ]
  },
  {
   "cell_type": "code",
   "execution_count": null,
   "metadata": {},
   "outputs": [],
   "source": [
    "np.random.rand(11, 12).shape"
   ]
  },
  {
   "cell_type": "code",
   "execution_count": null,
   "metadata": {},
   "outputs": [],
   "source": []
  }
 ],
 "metadata": {
  "kernelspec": {
   "display_name": "Python 3",
   "language": "python",
   "name": "python3"
  },
  "language_info": {
   "codemirror_mode": {
    "name": "ipython",
    "version": 3
   },
   "file_extension": ".py",
   "mimetype": "text/x-python",
   "name": "python",
   "nbconvert_exporter": "python",
   "pygments_lexer": "ipython3",
   "version": "3.7.4"
  }
 },
 "nbformat": 4,
 "nbformat_minor": 1
}
