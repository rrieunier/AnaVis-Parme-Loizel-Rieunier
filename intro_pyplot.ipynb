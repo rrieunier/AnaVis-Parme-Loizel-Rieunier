{
 "cells": [
  {
   "cell_type": "code",
   "execution_count": null,
   "metadata": {},
   "outputs": [],
   "source": [
    "from matplotlib.pyplot import *\n",
    "import math\n",
    "import numpy as np\n",
    "\n",
    "%matplotlib inline"
   ]
  },
  {
   "cell_type": "code",
   "execution_count": null,
   "metadata": {},
   "outputs": [],
   "source": [
    "x = np.arange(100)\n",
    "y = np.random.rand(100, 1).reshape(100)\n",
    "plot(x, y)"
   ]
  },
  {
   "cell_type": "code",
   "execution_count": null,
   "metadata": {},
   "outputs": [],
   "source": [
    "def oncer(x,y):\n",
    "    #assert isinstance(x, list)\n",
    "    #assert isinstance(y, list)\n",
    "    plot(x,y)\n",
    "    \n",
    "oncer(x,y)"
   ]
  },
  {
   "cell_type": "code",
   "execution_count": null,
   "metadata": {},
   "outputs": [],
   "source": [
    "def enseur_sinus():\n",
    "    x = np.linspace(-2*math.pi, 2*math.pi, 100)\n",
    "    y = np.sin(x)\n",
    "    oncer(x,y)\n",
    "    oncer(x, np.cos(x))"
   ]
  },
  {
   "cell_type": "code",
   "execution_count": null,
   "metadata": {},
   "outputs": [],
   "source": [
    "oncer(x, y)"
   ]
  },
  {
   "cell_type": "code",
   "execution_count": null,
   "metadata": {},
   "outputs": [],
   "source": [
    "enseur_sinus()\n",
    "oncer(np.linspace(-2*math.pi, 2*math.pi, 100), np.cos(np.linspace(-2*math.pi, 2*math.pi, 100)))"
   ]
  },
  {
   "cell_type": "code",
   "execution_count": null,
   "metadata": {},
   "outputs": [],
   "source": [
    "def try_scat(x,y):\n",
    "    scatter(np.array(x), np.array(y))\n",
    "    "
   ]
  },
  {
   "cell_type": "code",
   "execution_count": null,
   "metadata": {},
   "outputs": [],
   "source": [
    "try_scat(x,y)"
   ]
  },
  {
   "cell_type": "code",
   "execution_count": null,
   "metadata": {},
   "outputs": [],
   "source": [
    "def try_bar(x,h,labels):\n",
    "    bar(x, h)\n",
    "    xticks(x, labels, rotation=65)"
   ]
  },
  {
   "cell_type": "markdown",
   "metadata": {},
   "source": [
    "NE PAS OUBLIER DE RESHAPE LE PARAM HEIGHT"
   ]
  },
  {
   "cell_type": "code",
   "execution_count": null,
   "metadata": {},
   "outputs": [],
   "source": [
    "c = [\"abcd\" for i in range(100)]\n",
    "try_bar(x,y, c)\n"
   ]
  },
  {
   "cell_type": "code",
   "execution_count": null,
   "metadata": {},
   "outputs": [],
   "source": [
    "def bar_labels_err(labels, data):\n",
    "    ind = np.arange(len(labels))\n",
    "    bar(ind, data.mean(axis=1).reshape(10), yerr=data.std(axis=1))\n",
    "    xticks(ind, labels, rotation=45)\n",
    "    \n",
    "data = np.random.rand(10, 10)\n",
    "\n",
    "bar_labels_err([str(i) for i in range(10)], data)"
   ]
  },
  {
   "cell_type": "code",
   "execution_count": null,
   "metadata": {},
   "outputs": [],
   "source": [
    "def inir_hist(data, n):\n",
    "    hist(data, n)\n",
    "\n",
    "inir_hist(np.arange(100), 6)"
   ]
  },
  {
   "cell_type": "code",
   "execution_count": null,
   "metadata": {},
   "outputs": [],
   "source": [
    "def inition_bt_moust():\n",
    "    "
   ]
  }
 ],
 "metadata": {
  "kernelspec": {
   "display_name": "Python 3",
   "language": "python",
   "name": "python3"
  },
  "language_info": {
   "codemirror_mode": {
    "name": "ipython",
    "version": 3
   },
   "file_extension": ".py",
   "mimetype": "text/x-python",
   "name": "python",
   "nbconvert_exporter": "python",
   "pygments_lexer": "ipython3",
   "version": "3.7.1"
  }
 },
 "nbformat": 4,
 "nbformat_minor": 1
}
